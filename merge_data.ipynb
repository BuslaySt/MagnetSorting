{
 "cells": [
  {
   "cell_type": "code",
   "execution_count": 1,
   "id": "b33612e5",
   "metadata": {},
   "outputs": [],
   "source": [
    "import pandas as pd\n",
    "import numpy as np\n",
    "import matplotlib.pyplot as plt\n",
    "# import seaborn as sns"
   ]
  },
  {
   "cell_type": "code",
   "execution_count": 16,
   "id": "c220bf8a",
   "metadata": {},
   "outputs": [
    {
     "data": {
      "text/html": [
       "<div>\n",
       "<style scoped>\n",
       "    .dataframe tbody tr th:only-of-type {\n",
       "        vertical-align: middle;\n",
       "    }\n",
       "\n",
       "    .dataframe tbody tr th {\n",
       "        vertical-align: top;\n",
       "    }\n",
       "\n",
       "    .dataframe thead th {\n",
       "        text-align: right;\n",
       "    }\n",
       "</style>\n",
       "<table border=\"1\" class=\"dataframe\">\n",
       "  <thead>\n",
       "    <tr style=\"text-align: right;\">\n",
       "      <th></th>\n",
       "      <th>Npair</th>\n",
       "      <th>Nm1</th>\n",
       "      <th>Nm2</th>\n",
       "      <th>Bpair_N</th>\n",
       "      <th>Bpair_S</th>\n",
       "      <th>Fpair_N</th>\n",
       "      <th>Fpair_S</th>\n",
       "    </tr>\n",
       "  </thead>\n",
       "  <tbody>\n",
       "    <tr>\n",
       "      <th>0</th>\n",
       "      <td>1</td>\n",
       "      <td>5</td>\n",
       "      <td>15</td>\n",
       "      <td>345</td>\n",
       "      <td>346</td>\n",
       "      <td>11.755906</td>\n",
       "      <td>11.755906</td>\n",
       "    </tr>\n",
       "    <tr>\n",
       "      <th>1</th>\n",
       "      <td>2</td>\n",
       "      <td>11</td>\n",
       "      <td>17</td>\n",
       "      <td>343</td>\n",
       "      <td>345</td>\n",
       "      <td>11.897638</td>\n",
       "      <td>11.897638</td>\n",
       "    </tr>\n",
       "    <tr>\n",
       "      <th>2</th>\n",
       "      <td>3</td>\n",
       "      <td>102</td>\n",
       "      <td>108</td>\n",
       "      <td>342</td>\n",
       "      <td>341</td>\n",
       "      <td>11.740157</td>\n",
       "      <td>11.740157</td>\n",
       "    </tr>\n",
       "  </tbody>\n",
       "</table>\n",
       "</div>"
      ],
      "text/plain": [
       "   Npair  Nm1  Nm2  Bpair_N  Bpair_S    Fpair_N    Fpair_S\n",
       "0      1    5   15      345      346  11.755906  11.755906\n",
       "1      2   11   17      343      345  11.897638  11.897638\n",
       "2      3  102  108      342      341  11.740157  11.740157"
      ]
     },
     "execution_count": 16,
     "metadata": {},
     "output_type": "execute_result"
    }
   ],
   "source": [
    "# Загрузка данных\n",
    "pairs_df = pd.read_csv(\"data_pairs.csv\")\n",
    "magn_df = pd.read_csv(\"data_magn.csv\")\n",
    "pairs_df.drop(['Bpair_av', 'Fpair_av'], axis=1, inplace=True)\n",
    "magn_df.drop(['Nm', 'Bav'], axis=1, inplace=True)\n",
    "magn_df.rename(columns={'Nm_pm': 'Nm'}, inplace=True)\n",
    "pairs_df.head(3)"
   ]
  },
  {
   "cell_type": "code",
   "execution_count": 17,
   "id": "f5d3289b",
   "metadata": {},
   "outputs": [
    {
     "data": {
      "text/html": [
       "<div>\n",
       "<style scoped>\n",
       "    .dataframe tbody tr th:only-of-type {\n",
       "        vertical-align: middle;\n",
       "    }\n",
       "\n",
       "    .dataframe tbody tr th {\n",
       "        vertical-align: top;\n",
       "    }\n",
       "\n",
       "    .dataframe thead th {\n",
       "        text-align: right;\n",
       "    }\n",
       "</style>\n",
       "<table border=\"1\" class=\"dataframe\">\n",
       "  <thead>\n",
       "    <tr style=\"text-align: right;\">\n",
       "      <th></th>\n",
       "      <th>Nm</th>\n",
       "      <th>Bn</th>\n",
       "      <th>Bs</th>\n",
       "      <th>Fb</th>\n",
       "    </tr>\n",
       "  </thead>\n",
       "  <tbody>\n",
       "    <tr>\n",
       "      <th>0</th>\n",
       "      <td>1</td>\n",
       "      <td>227</td>\n",
       "      <td>230</td>\n",
       "      <td>5.81</td>\n",
       "    </tr>\n",
       "    <tr>\n",
       "      <th>1</th>\n",
       "      <td>3</td>\n",
       "      <td>243</td>\n",
       "      <td>222</td>\n",
       "      <td>5.93</td>\n",
       "    </tr>\n",
       "    <tr>\n",
       "      <th>2</th>\n",
       "      <td>4</td>\n",
       "      <td>219</td>\n",
       "      <td>246</td>\n",
       "      <td>5.87</td>\n",
       "    </tr>\n",
       "  </tbody>\n",
       "</table>\n",
       "</div>"
      ],
      "text/plain": [
       "   Nm   Bn   Bs    Fb\n",
       "0   1  227  230  5.81\n",
       "1   3  243  222  5.93\n",
       "2   4  219  246  5.87"
      ]
     },
     "execution_count": 17,
     "metadata": {},
     "output_type": "execute_result"
    }
   ],
   "source": [
    "magn_df.head(3)"
   ]
  },
  {
   "cell_type": "code",
   "execution_count": 33,
   "id": "68506c08",
   "metadata": {},
   "outputs": [
    {
     "name": "stdout",
     "output_type": "stream",
     "text": [
      "Пропущено 43 пар, так как не найдены входящие магниты\n"
     ]
    }
   ],
   "source": [
    "n, pairs = 0, 0\n",
    "merged = []\n",
    "for _, row in pairs_df.iterrows():\n",
    "    Npair, Nm1, Nm2, Bpair_N, Bpair_S, Fpair_N, Fpair_S = row\n",
    "    try:\n",
    "        Nm_1, Bm1_N, Bm1_S, Fm1_B = magn_df[magn_df.Nm == Nm1].iloc[0]\n",
    "    except IndexError:\n",
    "        # print(f'магнит №ПМ {Nm1} не найден')\n",
    "        Bm1_N, Bm1_S, Fm1_B = '', '', ''\n",
    "        n += 1\n",
    "    try:\n",
    "        Nm_2, Bm2_N, Bm2_S, Fm2_B = magn_df[magn_df.Nm == Nm2].iloc[0]\n",
    "    except IndexError:\n",
    "        # print(f'магнит №ПМ {Nm2} не найден')\n",
    "        Bm2_N, Bm2_S, Fm2_B = '', '', ''\n",
    "        n += 1\n",
    "\n",
    "    try:\n",
    "        merged.append([int(Npair), int(Nm1), int(Bm1_N), int(Bm1_S), Fm1_B, int(Nm2), int(Bm2_N), int(Bm2_S), Fm2_B, int(Bpair_N), int(Bpair_S), Fpair_N, Fpair_S])\n",
    "    except ValueError:\n",
    "        # print(f'Пропускаем пару {int(Npair)}, так как не найдены магниты')\n",
    "        pairs += 1\n",
    "\n",
    "merged_df = pd.DataFrame(merged, columns = ['Npair', 'Nm1', 'Bm1_N', 'Bm1_S', 'Fm1_B', 'Nm2', 'Bm2_N', 'Bm2_S', 'Fm2_B', 'Bpair_N', 'Bpair_S', 'Fpair_N', 'Fpair_S'])\n",
    "print(f'Пропущено {pairs} пар, так как не найдены входящие магниты')"
   ]
  },
  {
   "cell_type": "code",
   "execution_count": 39,
   "id": "adf7ca1a",
   "metadata": {},
   "outputs": [],
   "source": [
    "merged_df.dropna(inplace=True)\n",
    "merged_df.to_csv('data_merged.csv')"
   ]
  }
 ],
 "metadata": {
  "kernelspec": {
   "display_name": "venv",
   "language": "python",
   "name": "python3"
  },
  "language_info": {
   "codemirror_mode": {
    "name": "ipython",
    "version": 3
   },
   "file_extension": ".py",
   "mimetype": "text/x-python",
   "name": "python",
   "nbconvert_exporter": "python",
   "pygments_lexer": "ipython3",
   "version": "3.12.1"
  }
 },
 "nbformat": 4,
 "nbformat_minor": 5
}
