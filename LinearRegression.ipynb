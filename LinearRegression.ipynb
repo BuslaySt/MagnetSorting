{
 "cells": [
  {
   "cell_type": "code",
   "execution_count": 6,
   "id": "5b79bc86",
   "metadata": {},
   "outputs": [],
   "source": [
    "import pandas as pd\n",
    "import numpy as np\n",
    "import matplotlib.pyplot as plt\n",
    "from sklearn.linear_model import LinearRegression\n",
    "from sklearn.model_selection import train_test_split\n",
    "from sklearn.metrics import mean_absolute_error, mean_squared_error, r2_score"
   ]
  },
  {
   "cell_type": "code",
   "execution_count": 3,
   "id": "299b0f01",
   "metadata": {},
   "outputs": [
    {
     "data": {
      "text/html": [
       "<div>\n",
       "<style scoped>\n",
       "    .dataframe tbody tr th:only-of-type {\n",
       "        vertical-align: middle;\n",
       "    }\n",
       "\n",
       "    .dataframe tbody tr th {\n",
       "        vertical-align: top;\n",
       "    }\n",
       "\n",
       "    .dataframe thead th {\n",
       "        text-align: right;\n",
       "    }\n",
       "</style>\n",
       "<table border=\"1\" class=\"dataframe\">\n",
       "  <thead>\n",
       "    <tr style=\"text-align: right;\">\n",
       "      <th></th>\n",
       "      <th>Unnamed: 0</th>\n",
       "      <th>Npair</th>\n",
       "      <th>Nm1</th>\n",
       "      <th>Bm1_N</th>\n",
       "      <th>Bm1_S</th>\n",
       "      <th>Fm1_B</th>\n",
       "      <th>Nm2</th>\n",
       "      <th>Bm2_N</th>\n",
       "      <th>Bm2_S</th>\n",
       "      <th>Fm2_B</th>\n",
       "      <th>Bpair_N</th>\n",
       "      <th>Bpair_S</th>\n",
       "      <th>Fpair_N</th>\n",
       "      <th>Fpair_S</th>\n",
       "    </tr>\n",
       "  </thead>\n",
       "  <tbody>\n",
       "    <tr>\n",
       "      <th>5</th>\n",
       "      <td>6</td>\n",
       "      <td>7</td>\n",
       "      <td>112</td>\n",
       "      <td>237</td>\n",
       "      <td>222</td>\n",
       "      <td>5.90</td>\n",
       "      <td>104</td>\n",
       "      <td>224</td>\n",
       "      <td>238</td>\n",
       "      <td>5.91</td>\n",
       "      <td>345</td>\n",
       "      <td>343</td>\n",
       "      <td>11.811024</td>\n",
       "      <td>11.811024</td>\n",
       "    </tr>\n",
       "    <tr>\n",
       "      <th>6</th>\n",
       "      <td>7</td>\n",
       "      <td>8</td>\n",
       "      <td>113</td>\n",
       "      <td>236</td>\n",
       "      <td>222</td>\n",
       "      <td>5.87</td>\n",
       "      <td>101</td>\n",
       "      <td>224</td>\n",
       "      <td>237</td>\n",
       "      <td>5.91</td>\n",
       "      <td>343</td>\n",
       "      <td>343</td>\n",
       "      <td>11.811024</td>\n",
       "      <td>11.811024</td>\n",
       "    </tr>\n",
       "    <tr>\n",
       "      <th>7</th>\n",
       "      <td>8</td>\n",
       "      <td>9</td>\n",
       "      <td>119</td>\n",
       "      <td>242</td>\n",
       "      <td>217</td>\n",
       "      <td>5.88</td>\n",
       "      <td>140</td>\n",
       "      <td>220</td>\n",
       "      <td>244</td>\n",
       "      <td>5.94</td>\n",
       "      <td>347</td>\n",
       "      <td>349</td>\n",
       "      <td>11.866142</td>\n",
       "      <td>11.866142</td>\n",
       "    </tr>\n",
       "  </tbody>\n",
       "</table>\n",
       "</div>"
      ],
      "text/plain": [
       "   Unnamed: 0  Npair  Nm1  Bm1_N  Bm1_S  Fm1_B  Nm2  Bm2_N  Bm2_S  Fm2_B  \\\n",
       "5           6      7  112    237    222   5.90  104    224    238   5.91   \n",
       "6           7      8  113    236    222   5.87  101    224    237   5.91   \n",
       "7           8      9  119    242    217   5.88  140    220    244   5.94   \n",
       "\n",
       "   Bpair_N  Bpair_S    Fpair_N    Fpair_S  \n",
       "5      345      343  11.811024  11.811024  \n",
       "6      343      343  11.811024  11.811024  \n",
       "7      347      349  11.866142  11.866142  "
      ]
     },
     "execution_count": 3,
     "metadata": {},
     "output_type": "execute_result"
    }
   ],
   "source": [
    "# 1. Загрузка данных\n",
    "data_all = pd.read_csv('data_merged.csv')\n",
    "data = data_all.iloc[5:]\n",
    "data_test = data_all.iloc[0:5]\n",
    "data.head(3)"
   ]
  },
  {
   "cell_type": "code",
   "execution_count": 4,
   "id": "dc1d9977",
   "metadata": {},
   "outputs": [],
   "source": [
    "# 2. Подготовка данных\n",
    "X = data[['Bm1_N', 'Bm1_S', 'Fm1_B', 'Bm2_N', 'Bm2_S', 'Fm2_B']]\n",
    "y = data[['Bpair_N', 'Bpair_S', 'Fpair_N', 'Fpair_S']]"
   ]
  },
  {
   "cell_type": "code",
   "execution_count": null,
   "id": "fabedb2a",
   "metadata": {},
   "outputs": [
    {
     "name": "stdout",
     "output_type": "stream",
     "text": [
      "Оценка модели:\n",
      "R²: 0.648\n",
      "MAE: 0.636\n"
     ]
    }
   ],
   "source": [
    "# 3. Разделение на обучающую и тестовую выборки\n",
    "X_train, X_test, y_train, y_test = train_test_split(X, y, test_size=0.2, random_state=42)\n",
    "\n",
    "# 4. Обучение модели\n",
    "model = LinearRegression()\n",
    "model.fit(X_train, y_train)\n",
    "\n",
    "# 5. Предсказание и оценка\n",
    "y_pred = model.predict(X_test)\n",
    "\n",
    "print(\"Оценка модели:\")\n",
    "print(f\"R²: {r2_score(y_test, y_pred):.3f}\")\n",
    "print(f\"MAE: {mean_absolute_error(y_test, y_pred):.3f}\")\n",
    "print(f\"MSE: {mean_squared_error(y_test, y_pred):.3f}\")"
   ]
  },
  {
   "cell_type": "code",
   "execution_count": 8,
   "id": "55bbdb11",
   "metadata": {},
   "outputs": [
    {
     "name": "stdout",
     "output_type": "stream",
     "text": [
      "\n",
      "Предсказание для новых данных:\n",
      "     Bpair_N     Bpair_S    Fpair_N    Fpair_S\n",
      "0  343.29904  344.276393  11.920566  11.922218\n"
     ]
    }
   ],
   "source": [
    "# 6. Пример предсказания для новых данных\n",
    "new_data = pd.DataFrame([[234, 233, 5.94, 233, 236, 5.96]], \n",
    "                        columns=X.columns)\n",
    "prediction = model.predict(new_data)\n",
    "print(\"\\nПредсказание для новых данных:\")\n",
    "print(pd.DataFrame(prediction, columns=y.columns))"
   ]
  },
  {
   "cell_type": "code",
   "execution_count": 10,
   "id": "3c952883",
   "metadata": {},
   "outputs": [
    {
     "data": {
      "image/png": "[encoded data removed]",
      "text/plain": [
       "<Figure size 1000x600 with 1 Axes>"
      ]
     },
     "metadata": {},
     "output_type": "display_data"
    }
   ],
   "source": [
    "# 7. Визуализация важности признаков (коэффициенты)\n",
    "plt.figure(figsize=(10, 6))\n",
    "features = X.columns\n",
    "coef = pd.DataFrame(model.coef_, columns=features, index=y.columns)\n",
    "coef.mean().sort_values().plot(kind='barh', color='skyblue')\n",
    "plt.title('Среднее влияние признаков на целевые переменные')\n",
    "plt.xlabel('Значение коэффициента')\n",
    "plt.ylabel('Признак')\n",
    "plt.show()"
   ]
  }
 ],
 "metadata": {
  "kernelspec": {
   "display_name": "venv",
   "language": "python",
   "name": "python3"
  },
  "language_info": {
   "codemirror_mode": {
    "name": "ipython",
    "version": 3
   },
   "file_extension": ".py",
   "mimetype": "text/x-python",
   "name": "python",
   "nbconvert_exporter": "python",
   "pygments_lexer": "ipython3",
   "version": "3.12.1"
  }
 },
 "nbformat": 4,
 "nbformat_minor": 5
}
