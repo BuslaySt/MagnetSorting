{
 "cells": [
  {
   "cell_type": "code",
   "execution_count": 1,
   "id": "f473aa1f",
   "metadata": {},
   "outputs": [],
   "source": [
    "import pandas as pd\n",
    "\n",
    "# Загрузка данных\n",
    "data = pd.read_csv('data_magn.csv')"
   ]
  },
  {
   "cell_type": "code",
   "execution_count": 2,
   "id": "0f76e8dd",
   "metadata": {},
   "outputs": [
    {
     "data": {
      "text/html": [
       "<div>\n",
       "<style scoped>\n",
       "    .dataframe tbody tr th:only-of-type {\n",
       "        vertical-align: middle;\n",
       "    }\n",
       "\n",
       "    .dataframe tbody tr th {\n",
       "        vertical-align: top;\n",
       "    }\n",
       "\n",
       "    .dataframe thead th {\n",
       "        text-align: right;\n",
       "    }\n",
       "</style>\n",
       "<table border=\"1\" class=\"dataframe\">\n",
       "  <thead>\n",
       "    <tr style=\"text-align: right;\">\n",
       "      <th></th>\n",
       "      <th>Nm</th>\n",
       "      <th>Nm_pm</th>\n",
       "      <th>Bn</th>\n",
       "      <th>Bs</th>\n",
       "      <th>Bav</th>\n",
       "      <th>Fb</th>\n",
       "    </tr>\n",
       "  </thead>\n",
       "  <tbody>\n",
       "    <tr>\n",
       "      <th>0</th>\n",
       "      <td>1</td>\n",
       "      <td>1</td>\n",
       "      <td>227</td>\n",
       "      <td>230</td>\n",
       "      <td>228.5</td>\n",
       "      <td>5.81</td>\n",
       "    </tr>\n",
       "    <tr>\n",
       "      <th>1</th>\n",
       "      <td>2</td>\n",
       "      <td>3</td>\n",
       "      <td>243</td>\n",
       "      <td>222</td>\n",
       "      <td>232.5</td>\n",
       "      <td>5.93</td>\n",
       "    </tr>\n",
       "    <tr>\n",
       "      <th>2</th>\n",
       "      <td>3</td>\n",
       "      <td>4</td>\n",
       "      <td>219</td>\n",
       "      <td>246</td>\n",
       "      <td>232.5</td>\n",
       "      <td>5.87</td>\n",
       "    </tr>\n",
       "    <tr>\n",
       "      <th>3</th>\n",
       "      <td>4</td>\n",
       "      <td>5</td>\n",
       "      <td>239</td>\n",
       "      <td>219</td>\n",
       "      <td>229.0</td>\n",
       "      <td>NaN</td>\n",
       "    </tr>\n",
       "    <tr>\n",
       "      <th>4</th>\n",
       "      <td>5</td>\n",
       "      <td>6</td>\n",
       "      <td>244</td>\n",
       "      <td>219</td>\n",
       "      <td>231.5</td>\n",
       "      <td>5.88</td>\n",
       "    </tr>\n",
       "  </tbody>\n",
       "</table>\n",
       "</div>"
      ],
      "text/plain": [
       "   Nm  Nm_pm   Bn   Bs    Bav    Fb\n",
       "0   1      1  227  230  228.5  5.81\n",
       "1   2      3  243  222  232.5  5.93\n",
       "2   3      4  219  246  232.5  5.87\n",
       "3   4      5  239  219  229.0   NaN\n",
       "4   5      6  244  219  231.5  5.88"
      ]
     },
     "execution_count": 2,
     "metadata": {},
     "output_type": "execute_result"
    }
   ],
   "source": [
    "data.head()"
   ]
  },
  {
   "cell_type": "code",
   "execution_count": 3,
   "id": "d7cf8a0d",
   "metadata": {},
   "outputs": [
    {
     "name": "stdout",
     "output_type": "stream",
     "text": [
      "<class 'pandas.core.frame.DataFrame'>\n",
      "RangeIndex: 571 entries, 0 to 570\n",
      "Data columns (total 6 columns):\n",
      " #   Column  Non-Null Count  Dtype  \n",
      "---  ------  --------------  -----  \n",
      " 0   Nm      571 non-null    int64  \n",
      " 1   Nm_pm   571 non-null    int64  \n",
      " 2   Bn      571 non-null    int64  \n",
      " 3   Bs      571 non-null    int64  \n",
      " 4   Bav     571 non-null    float64\n",
      " 5   Fb      556 non-null    float64\n",
      "dtypes: float64(2), int64(4)\n",
      "memory usage: 26.9 KB\n"
     ]
    }
   ],
   "source": [
    "data.info()"
   ]
  },
  {
   "cell_type": "code",
   "execution_count": 4,
   "id": "844792be",
   "metadata": {},
   "outputs": [
    {
     "data": {
      "text/plain": [
       "Nm        0\n",
       "Nm_pm     0\n",
       "Bn        0\n",
       "Bs        0\n",
       "Bav       0\n",
       "Fb       15\n",
       "dtype: int64"
      ]
     },
     "metadata": {},
     "output_type": "display_data"
    }
   ],
   "source": [
    "display(data.isna().sum())"
   ]
  },
  {
   "cell_type": "code",
   "execution_count": 6,
   "id": "df17099e",
   "metadata": {},
   "outputs": [
    {
     "data": {
      "text/html": [
       "<div>\n",
       "<style scoped>\n",
       "    .dataframe tbody tr th:only-of-type {\n",
       "        vertical-align: middle;\n",
       "    }\n",
       "\n",
       "    .dataframe tbody tr th {\n",
       "        vertical-align: top;\n",
       "    }\n",
       "\n",
       "    .dataframe thead th {\n",
       "        text-align: right;\n",
       "    }\n",
       "</style>\n",
       "<table border=\"1\" class=\"dataframe\">\n",
       "  <thead>\n",
       "    <tr style=\"text-align: right;\">\n",
       "      <th></th>\n",
       "      <th>Nm</th>\n",
       "      <th>Nm_pm</th>\n",
       "      <th>Bn</th>\n",
       "      <th>Bs</th>\n",
       "      <th>Bav</th>\n",
       "      <th>Fb</th>\n",
       "    </tr>\n",
       "  </thead>\n",
       "  <tbody>\n",
       "    <tr>\n",
       "      <th>count</th>\n",
       "      <td>571.000000</td>\n",
       "      <td>571.000000</td>\n",
       "      <td>571.000000</td>\n",
       "      <td>571.000000</td>\n",
       "      <td>571.000000</td>\n",
       "      <td>556.000000</td>\n",
       "    </tr>\n",
       "    <tr>\n",
       "      <th>mean</th>\n",
       "      <td>288.112084</td>\n",
       "      <td>565.040280</td>\n",
       "      <td>230.049037</td>\n",
       "      <td>231.010508</td>\n",
       "      <td>230.143345</td>\n",
       "      <td>5.889388</td>\n",
       "    </tr>\n",
       "    <tr>\n",
       "      <th>std</th>\n",
       "      <td>167.010625</td>\n",
       "      <td>558.878388</td>\n",
       "      <td>9.208370</td>\n",
       "      <td>10.081765</td>\n",
       "      <td>9.902108</td>\n",
       "      <td>0.051566</td>\n",
       "    </tr>\n",
       "    <tr>\n",
       "      <th>min</th>\n",
       "      <td>1.000000</td>\n",
       "      <td>1.000000</td>\n",
       "      <td>210.000000</td>\n",
       "      <td>209.000000</td>\n",
       "      <td>5.850000</td>\n",
       "      <td>5.730000</td>\n",
       "    </tr>\n",
       "    <tr>\n",
       "      <th>25%</th>\n",
       "      <td>143.500000</td>\n",
       "      <td>200.000000</td>\n",
       "      <td>222.000000</td>\n",
       "      <td>224.000000</td>\n",
       "      <td>229.000000</td>\n",
       "      <td>5.860000</td>\n",
       "    </tr>\n",
       "    <tr>\n",
       "      <th>50%</th>\n",
       "      <td>288.000000</td>\n",
       "      <td>451.000000</td>\n",
       "      <td>231.000000</td>\n",
       "      <td>232.000000</td>\n",
       "      <td>230.500000</td>\n",
       "      <td>5.890000</td>\n",
       "    </tr>\n",
       "    <tr>\n",
       "      <th>75%</th>\n",
       "      <td>433.500000</td>\n",
       "      <td>655.500000</td>\n",
       "      <td>237.000000</td>\n",
       "      <td>238.000000</td>\n",
       "      <td>232.000000</td>\n",
       "      <td>5.930000</td>\n",
       "    </tr>\n",
       "    <tr>\n",
       "      <th>max</th>\n",
       "      <td>576.000000</td>\n",
       "      <td>2910.000000</td>\n",
       "      <td>251.000000</td>\n",
       "      <td>336.000000</td>\n",
       "      <td>279.500000</td>\n",
       "      <td>6.070000</td>\n",
       "    </tr>\n",
       "  </tbody>\n",
       "</table>\n",
       "</div>"
      ],
      "text/plain": [
       "               Nm        Nm_pm          Bn          Bs         Bav          Fb\n",
       "count  571.000000   571.000000  571.000000  571.000000  571.000000  556.000000\n",
       "mean   288.112084   565.040280  230.049037  231.010508  230.143345    5.889388\n",
       "std    167.010625   558.878388    9.208370   10.081765    9.902108    0.051566\n",
       "min      1.000000     1.000000  210.000000  209.000000    5.850000    5.730000\n",
       "25%    143.500000   200.000000  222.000000  224.000000  229.000000    5.860000\n",
       "50%    288.000000   451.000000  231.000000  232.000000  230.500000    5.890000\n",
       "75%    433.500000   655.500000  237.000000  238.000000  232.000000    5.930000\n",
       "max    576.000000  2910.000000  251.000000  336.000000  279.500000    6.070000"
      ]
     },
     "metadata": {},
     "output_type": "display_data"
    }
   ],
   "source": [
    "display(data.describe())"
   ]
  },
  {
   "cell_type": "code",
   "execution_count": 12,
   "id": "14031e89",
   "metadata": {},
   "outputs": [
    {
     "data": {
      "text/html": [
       "<div>\n",
       "<style scoped>\n",
       "    .dataframe tbody tr th:only-of-type {\n",
       "        vertical-align: middle;\n",
       "    }\n",
       "\n",
       "    .dataframe tbody tr th {\n",
       "        vertical-align: top;\n",
       "    }\n",
       "\n",
       "    .dataframe thead th {\n",
       "        text-align: right;\n",
       "    }\n",
       "</style>\n",
       "<table border=\"1\" class=\"dataframe\">\n",
       "  <thead>\n",
       "    <tr style=\"text-align: right;\">\n",
       "      <th></th>\n",
       "      <th>Nm</th>\n",
       "      <th>Nm_pm</th>\n",
       "      <th>Bn</th>\n",
       "      <th>Bs</th>\n",
       "      <th>Bav</th>\n",
       "      <th>Fb</th>\n",
       "    </tr>\n",
       "  </thead>\n",
       "  <tbody>\n",
       "    <tr>\n",
       "      <th>median</th>\n",
       "      <td>288.0</td>\n",
       "      <td>451.0</td>\n",
       "      <td>231.0</td>\n",
       "      <td>232.0</td>\n",
       "      <td>230.0</td>\n",
       "      <td>6.0</td>\n",
       "    </tr>\n",
       "    <tr>\n",
       "      <th>mean</th>\n",
       "      <td>288.0</td>\n",
       "      <td>565.0</td>\n",
       "      <td>230.0</td>\n",
       "      <td>231.0</td>\n",
       "      <td>230.0</td>\n",
       "      <td>6.0</td>\n",
       "    </tr>\n",
       "  </tbody>\n",
       "</table>\n",
       "</div>"
      ],
      "text/plain": [
       "           Nm  Nm_pm     Bn     Bs    Bav   Fb\n",
       "median  288.0  451.0  231.0  232.0  230.0  6.0\n",
       "mean    288.0  565.0  230.0  231.0  230.0  6.0"
      ]
     },
     "metadata": {},
     "output_type": "display_data"
    }
   ],
   "source": [
    "display(pd.DataFrame([round(data.median()), round(data.mean())], index = ['median', 'mean']))"
   ]
  }
 ],
 "metadata": {
  "kernelspec": {
   "display_name": "venv",
   "language": "python",
   "name": "python3"
  },
  "language_info": {
   "codemirror_mode": {
    "name": "ipython",
    "version": 3
   },
   "file_extension": ".py",
   "mimetype": "text/x-python",
   "name": "python",
   "nbconvert_exporter": "python",
   "pygments_lexer": "ipython3",
   "version": "3.12.1"
  }
 },
 "nbformat": 4,
 "nbformat_minor": 5
}
